{
 "cells": [
  {
   "cell_type": "code",
   "execution_count": 9,
   "metadata": {},
   "outputs": [],
   "source": [
    "import json\n",
    "import numpy as np\n",
    "import pandas as pd\n",
    "from sklearn.model_selection import train_test_split\n",
    "from sklearn.neighbors import NearestNeighbors"
   ]
  },
  {
   "cell_type": "markdown",
   "metadata": {},
   "source": [
    "## Load Squad data"
   ]
  },
  {
   "cell_type": "code",
   "execution_count": 2,
   "metadata": {},
   "outputs": [],
   "source": [
    "# based on: https://www.kaggle.com/code/sanjay11100/squad-stanford-q-a-json-to-pandas-dataframe\n",
    "def squad_json_to_dataframe(file_path, record_path=['data','paragraphs','qas','answers']):\n",
    "    \"\"\"\n",
    "    input_file_path: path to the squad json file.\n",
    "    record_path: path to deepest level in json file default value is\n",
    "    ['data','paragraphs','qas','answers']\n",
    "    \"\"\"\n",
    "    file = json.loads(open(file_path).read())\n",
    "    # parsing different level's in the json file\n",
    "    js = pd.json_normalize(file, record_path)\n",
    "    m = pd.json_normalize(file, record_path[:-1])\n",
    "    r = pd.json_normalize(file,record_path[:-2])\n",
    "    # combining it into single dataframe\n",
    "    idx = np.repeat(r['context'].values, r.qas.str.len())\n",
    "    m['context'] = idx\n",
    "    data = m[['id','question','context','answers']].set_index('id').reset_index()\n",
    "    data['c_id'] = data['context'].factorize()[0]\n",
    "    return data"
   ]
  },
  {
   "cell_type": "markdown",
   "metadata": {},
   "source": [
    "I downloaded locally the dataset as it is not heavy. Paths: \n",
    "'/Users/ezagury/Downloads/squad1.1/train-v1.1.json' \n",
    "'/Users/ezagury/Downloads/squad1.1/dev-v1.1.json"
   ]
  },
  {
   "cell_type": "code",
   "execution_count": 3,
   "metadata": {},
   "outputs": [],
   "source": [
    "## Load dataset\n",
    "squad = squad_json_to_dataframe('/Users/ezagury/Downloads/squad1.1/train-v1.1.json')\n",
    "\n",
    "## get a list of contexts and associated ids \n",
    "documents = squad[['context', 'c_id']].drop_duplicates().reset_index(drop=True)"
   ]
  },
  {
   "cell_type": "markdown",
   "metadata": {},
   "source": [
    "## Retrieve context using TF-IDF + Knn"
   ]
  },
  {
   "cell_type": "markdown",
   "metadata": {},
   "source": [
    "### Model definition"
   ]
  },
  {
   "cell_type": "code",
   "execution_count": 11,
   "metadata": {},
   "outputs": [],
   "source": [
    "from sklearn.feature_extraction.text import TfidfVectorizer\n",
    "\n",
    "\n",
    "# defining the TF-IDF\n",
    "tfidf_configs = {\n",
    "    'lowercase': True,\n",
    "    'analyzer': 'word',\n",
    "    'stop_words': 'english',\n",
    "    'binary': True,\n",
    "    'max_df': 0.9,\n",
    "    'max_features': 10_000\n",
    "}\n",
    "# defining the number of documents to retrieve\n",
    "retriever_configs = {\n",
    "    'n_neighbors': 1,\n",
    "    'metric': 'cosine'\n",
    "}\n"
   ]
  },
  {
   "cell_type": "code",
   "execution_count": 68,
   "metadata": {},
   "outputs": [],
   "source": [
    "class tf_idf_retriever:\n",
    "    def __init__(self):\n",
    "    # defining our pipeline\n",
    "        self.embedding = TfidfVectorizer(**tfidf_configs)\n",
    "        self.retriever = NearestNeighbors(**retriever_configs)\n",
    "\n",
    "    def fit(self, contexts):\n",
    "        ''' Fit context embeddings to context ids\n",
    "            Input : dict/dataframe in format {'context','c_id'}\n",
    "        '''\n",
    "        # let's train the model to retrieve the document id 'c_id'\n",
    "        X = self.embedding.fit_transform(contexts['context'])\n",
    "        self.retriever.fit(X, contexts['c_id'])\n",
    "\n",
    "    def predict(self, question):\n",
    "        ''' Predict predict k best contexts for each question\n",
    "            Input : list/Series of str objects (questions)\n",
    "            Output : array of context ids of shape len(question)*k \n",
    "        '''\n",
    "        X = self.embedding.transform(question)\n",
    "        y_pred = self.retriever.kneighbors(X, return_distance=False)\n",
    "        return y_pred\n",
    "    \n",
    "    def vectorized(self, text): \n",
    "        ''' Return vectorized version of text, using the model vectorizer'''\n",
    "        vector = self.embedding.transform([text])\n",
    "        return self.embedding.inverse_transform(vector)\n"
   ]
  },
  {
   "cell_type": "markdown",
   "metadata": {},
   "source": [
    "### Train/predict"
   ]
  },
  {
   "cell_type": "code",
   "execution_count": 62,
   "metadata": {},
   "outputs": [],
   "source": [
    "model = tf_idf_retriever()\n",
    "model.fit(documents)"
   ]
  },
  {
   "cell_type": "code",
   "execution_count": 63,
   "metadata": {},
   "outputs": [],
   "source": [
    "whole = model.predict(squad['question'])"
   ]
  },
  {
   "cell_type": "markdown",
   "metadata": {},
   "source": [
    "Let's make prediction by splitting dataset"
   ]
  },
  {
   "cell_type": "code",
   "execution_count": 21,
   "metadata": {},
   "outputs": [],
   "source": [
    "X_train, X_test, y_train, y_test = train_test_split(squad[['context', 'c_id']], squad['question'], test_size=0.3, random_state=0)"
   ]
  },
  {
   "cell_type": "code",
   "execution_count": 23,
   "metadata": {},
   "outputs": [],
   "source": [
    "## Fit on train set\n",
    "model.fit(X_train)\n",
    "\n",
    "## Predict over whole set\n",
    "train = model.predict(y_train)\n",
    "test = model.predict(y_test)\n",
    "\n",
    "## Get real context ids\n",
    "y_train = X_train['c_id']\n",
    "y_test = X_test['c_id']"
   ]
  },
  {
   "cell_type": "markdown",
   "metadata": {},
   "source": [
    "### Get precision"
   ]
  },
  {
   "cell_type": "code",
   "execution_count": 4,
   "metadata": {},
   "outputs": [],
   "source": [
    "def precision(y_pred: np.array, y_true: pd.Series) -> float:\n",
    "    ''' Input : vector of true context ids, vector of context id predictions\n",
    "        Output : precision = number of right predictions / Total predictions\n",
    "    '''\n",
    "    if len(y_pred) > 0:\n",
    "        return sum(y_pred.squeeze() == y_true.values)/len(y_true)\n",
    "    else: return 0\n",
    "\n",
    "def top_accuracy(y_true, y_pred) -> float:  ## Utile si on prédit plusieurs contexts pr 1 question\n",
    "    right, count = 0, 0\n",
    "    for y_t in y_true:\n",
    "        count += 1\n",
    "        if y_t in y_pred:\n",
    "            right += 1\n",
    "    return right / count if count > 0 else 0"
   ]
  },
  {
   "cell_type": "code",
   "execution_count": 59,
   "metadata": {},
   "outputs": [
    {
     "data": {
      "text/plain": [
       "4.8924476915800974e-05"
      ]
     },
     "execution_count": 59,
     "metadata": {},
     "output_type": "execute_result"
    }
   ],
   "source": [
    "precision( train, y_train)"
   ]
  },
  {
   "cell_type": "code",
   "execution_count": 60,
   "metadata": {},
   "outputs": [
    {
     "data": {
      "text/plain": [
       "0.0"
      ]
     },
     "execution_count": 60,
     "metadata": {},
     "output_type": "execute_result"
    }
   ],
   "source": [
    "precision( test, y_test)"
   ]
  },
  {
   "cell_type": "code",
   "execution_count": 64,
   "metadata": {},
   "outputs": [
    {
     "data": {
      "text/plain": [
       "0.43215105195264786"
      ]
     },
     "execution_count": 64,
     "metadata": {},
     "output_type": "execute_result"
    }
   ],
   "source": [
    "precision(whole, squad.c_id)"
   ]
  },
  {
   "cell_type": "markdown",
   "metadata": {},
   "source": [
    "###  Appreciate vectorizer"
   ]
  },
  {
   "cell_type": "code",
   "execution_count": 72,
   "metadata": {},
   "outputs": [
    {
     "data": {
      "text/plain": [
       "[array(['holy', 'headquarters', 'cross', 'congregation'], dtype='<U18')]"
      ]
     },
     "execution_count": 72,
     "metadata": {},
     "output_type": "execute_result"
    }
   ],
   "source": [
    "model = tf_idf_retriever()\n",
    "model.fit(documents)\n",
    "model.vectorized('Where is the headquarters of the Congregation of the Holy Cross?')"
   ]
  },
  {
   "cell_type": "markdown",
   "metadata": {},
   "source": [
    "## Using Word2Vect + knn"
   ]
  },
  {
   "cell_type": "code",
   "execution_count": 21,
   "metadata": {},
   "outputs": [],
   "source": [
    "from gensim.models import Word2Vec\n",
    "import gensim.downloader\n",
    "from gensim.parsing.preprocessing import preprocess_string\n",
    "\n",
    "# download a pretrained Word2Vec model\n",
    "# 'glove-wiki-gigaword-300' (376.1 MB)\n",
    "# 'word2vec-ruscorpora-300' (198.8 MB)\n",
    "# 'word2vec-google-news-300' (1.6 GB)\n",
    "vectorizer = gensim.downloader.load('word2vec-ruscorpora-300')\n",
    "\n",
    "# create a corpus of tokens\n",
    "corpus = documents['context'].tolist()\n",
    "corpus = [preprocess_string(t) for t in corpus]\n",
    "\n",
    "# defining parameters of embedding model\n",
    "embedding_configs = {\n",
    "    'sentences' : corpus, \n",
    "    'vector_size' : 300, \n",
    "    'window' : 5, \n",
    "    'min_count' : 1, \n",
    "    'workers' : 4\n",
    "}\n",
    "\n",
    "# defining the number of documents to retrieve\n",
    "retriever_configs = {\n",
    "    'n_neighbors': 1,\n",
    "    'metric': 'cosine'\n",
    "}"
   ]
  },
  {
   "cell_type": "code",
   "execution_count": 24,
   "metadata": {},
   "outputs": [],
   "source": [
    "class word2vec_retriever: \n",
    "    def __init__(self):\n",
    "    # defining our pipeline\n",
    "        self.embedding = Word2Vec(**embedding_configs).wv\n",
    "        self.retriever = NearestNeighbors(**retriever_configs)\n",
    "\n",
    "    def vectorized(self, text, verbose=False):\n",
    "        '''\n",
    "        Transform the text in a vector[Word2Vec]\n",
    "        vectorizer: sklearn.vectorizer\n",
    "        text: str\n",
    "        '''\n",
    "        tokens = preprocess_string(text)\n",
    "        words = [self.embedding[w] for w in tokens if w in self.embedding]\n",
    "        if verbose:\n",
    "            print('Text:', text)\n",
    "            print('Vector:', [w for w in tokens if w in  self.embedding])\n",
    "        elif len(words):\n",
    "            return np.mean(words, axis=0)\n",
    "        else:\n",
    "            return np.zeros((300), dtype=np.float32)\n",
    "\n",
    "    def fit(self, contexts):\n",
    "        X = contexts['context'].apply(self.vectorized).tolist()\n",
    "        self.retriever.fit(X, contexts['c_id'])\n",
    "\n",
    "    def predict(self, question):\n",
    "        # vectorizer the questions\n",
    "        X = question.apply(self.vectorized).tolist()\n",
    "\n",
    "        # predict one document for each question\n",
    "        y_pred = self.retriever.kneighbors(X, return_distance=False)\n",
    "\n",
    "        return y_pred"
   ]
  },
  {
   "cell_type": "code",
   "execution_count": 25,
   "metadata": {},
   "outputs": [],
   "source": [
    "model = word2vec_retriever()\n",
    "model.fit(documents)"
   ]
  },
  {
   "cell_type": "code",
   "execution_count": 26,
   "metadata": {},
   "outputs": [],
   "source": [
    "whole = model.predict(squad['question'])"
   ]
  },
  {
   "cell_type": "code",
   "execution_count": 28,
   "metadata": {},
   "outputs": [],
   "source": [
    "X_train, X_test, y_train, y_test = train_test_split(squad[['context', 'c_id']], squad['question'], test_size=0.3, random_state=0)\n",
    "\n",
    "## Fit on train set\n",
    "model.fit(X_train)\n",
    "\n",
    "## Predict over whole set\n",
    "train = model.predict(y_train)\n",
    "test = model.predict(y_test)\n",
    "\n",
    "## Get real context ids\n",
    "y_train = X_train['c_id']\n",
    "y_test = X_test['c_id']"
   ]
  },
  {
   "cell_type": "code",
   "execution_count": 15,
   "metadata": {},
   "outputs": [
    {
     "data": {
      "text/plain": [
       "0.030753775728033426"
      ]
     },
     "execution_count": 15,
     "metadata": {},
     "output_type": "execute_result"
    }
   ],
   "source": [
    "precision(y_pred, y_test)"
   ]
  }
 ],
 "metadata": {
  "kernelspec": {
   "display_name": "Python 3.9.7 ('base')",
   "language": "python",
   "name": "python3"
  },
  "language_info": {
   "codemirror_mode": {
    "name": "ipython",
    "version": 3
   },
   "file_extension": ".py",
   "mimetype": "text/x-python",
   "name": "python",
   "nbconvert_exporter": "python",
   "pygments_lexer": "ipython3",
   "version": "3.9.7"
  },
  "orig_nbformat": 4,
  "vscode": {
   "interpreter": {
    "hash": "738ed081cf0eb03b7d26ee4a7d85c6cad4be8bb7b51d8216b1a6c6623fe0c822"
   }
  }
 },
 "nbformat": 4,
 "nbformat_minor": 2
}
